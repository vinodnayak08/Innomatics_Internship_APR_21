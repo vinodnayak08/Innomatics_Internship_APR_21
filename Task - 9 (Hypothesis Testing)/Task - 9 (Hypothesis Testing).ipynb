{
 "cells": [
  {
   "cell_type": "code",
   "execution_count": 58,
   "metadata": {},
   "outputs": [],
   "source": [
    "import numpy as np\n",
    "import pandas as pd\n",
    "import math\n",
    "import statistics\n",
    "from scipy.stats import t\n",
    "import matplotlib.pyplot as plt\n",
    "import numpy as np\n",
    "from scipy.stats import norm"
   ]
  },
  {
   "cell_type": "markdown",
   "metadata": {},
   "source": [
    "## Question -1:"
   ]
  },
  {
   "cell_type": "markdown",
   "metadata": {},
   "source": [
    "Pista House selling Hyderabadi Chicken Dum biryani claims that each parcel packet has 500 grams of biryani (also mentioned on the label of packet). You are sceptic of their claims and believe that on average each packet does not contain 500 grams of biryani. How do you prove your claim?"
   ]
  },
  {
   "cell_type": "markdown",
   "metadata": {},
   "source": [
    "Step-1: Alternate Hypothesis (Bold Claim):$$H_{1}: \\mu\\neq 500$$Null Hypothesis (Status Quo):$$H_{0}: \\mu = 500$$\n",
    "\n",
    "Step-2:\n",
    "\n",
    "Collect a sample size n=10$$[490,220,470,500,495,496,496,498,508,480]$$\n",
    "Compute the sample mean$$\\overline{x}=465.3$$\n",
    "Step-3: Compute Test statistics$$t=\\frac{\\overline{x}-\\mu}{s/\\sqrt{n}}$$\n",
    "\n",
    "Step-4: Decide $\\alpha$ or significance level= $0.95$\n",
    "\n",
    "Step-5:Two tailed t-statistics\n",
    "\n",
    "step-6: Compute p-value"
   ]
  },
  {
   "cell_type": "code",
   "execution_count": 59,
   "metadata": {},
   "outputs": [
    {
     "data": {
      "text/plain": [
       "465.3"
      ]
     },
     "execution_count": 59,
     "metadata": {},
     "output_type": "execute_result"
    }
   ],
   "source": [
    "l=[490, 220, 470, 500, 495, 496, 496, 498, 508, 480]\n",
    "sum(l)/len(l)"
   ]
  },
  {
   "cell_type": "code",
   "execution_count": 60,
   "metadata": {},
   "outputs": [],
   "source": [
    "def standard_deviation(data):\n",
    "    length=len(data)\n",
    "    sum_of_data=sum(data)\n",
    "    mean=sum_of_data/length\n",
    "    sum_var=0\n",
    "    \n",
    "    for i in data:\n",
    "        sum_square=(i-mean)**2\n",
    "        sum_var+=sum_square\n",
    "    return (sum_var/length)**0.5\n",
    "\n",
    "def t_score(sample_mean,pop_mean,sample_std,sample_size):\n",
    "    numerator=sample_mean-pop_mean\n",
    "    denominator=sample_std/sample_size**0.5\n",
    "    return numerator/denominator"
   ]
  },
  {
   "cell_type": "code",
   "execution_count": 61,
   "metadata": {},
   "outputs": [
    {
     "name": "stdout",
     "output_type": "stream",
     "text": [
      "2.2621571627409915\n"
     ]
    }
   ],
   "source": [
    "# Two Tail - Calculating the z-critical vaue\n",
    "\n",
    "confidence_level=0.95\n",
    "alpha=1-confidence_level\n",
    "t_critical=t.ppf(1-alpha/2,df=9)\n",
    "print(t_critical)"
   ]
  },
  {
   "cell_type": "code",
   "execution_count": 62,
   "metadata": {},
   "outputs": [
    {
     "data": {
      "text/plain": [
       "82.3918078451978"
      ]
     },
     "execution_count": 62,
     "metadata": {},
     "output_type": "execute_result"
    }
   ],
   "source": [
    "# Standard deviation\n",
    "standard_deviation(l)"
   ]
  },
  {
   "cell_type": "code",
   "execution_count": 63,
   "metadata": {},
   "outputs": [],
   "source": [
    "# Defining the sample and population parameters\n",
    "\n",
    "sample_size = 10\n",
    "sample_mean = 465.3\n",
    "pop_mean = 500\n",
    "sample_std = 82.3918078451978"
   ]
  },
  {
   "cell_type": "code",
   "execution_count": 64,
   "metadata": {},
   "outputs": [
    {
     "name": "stdout",
     "output_type": "stream",
     "text": [
      "-1.3318197242863192\n"
     ]
    }
   ],
   "source": [
    "# Calculating the t-score\n",
    "\n",
    "t = t_score(sample_mean,pop_mean,sample_std,sample_size)\n",
    "print(t)"
   ]
  },
  {
   "cell_type": "code",
   "execution_count": 65,
   "metadata": {},
   "outputs": [
    {
     "data": {
      "text/plain": [
       "Text(465.3, 0.0007, 'x_bar')"
      ]
     },
     "execution_count": 65,
     "metadata": {},
     "output_type": "execute_result"
    },
    {
     "data": {
      "image/png": "[encoded data removed]",
      "text/plain": [
       "<Figure size 432x288 with 1 Axes>"
      ]
     },
     "metadata": {
      "needs_background": "light"
     },
     "output_type": "display_data"
    }
   ],
   "source": [
    "# Plotting the sampling distributions with rejection regions\n",
    "\n",
    "x_min=400\n",
    "x_max=600\n",
    "mean=pop_mean\n",
    "std=sample_std/sample_size**0.5\n",
    "\n",
    "# Ploting the graph and setting the x limits\n",
    "\n",
    "x=np.linspace(x_min,x_max,100)\n",
    "y=norm.pdf(x,mean,std)\n",
    "plt.xlim(x_min,x_max)\n",
    "plt.plot(x,y)\n",
    "\n",
    "# Computing the left and right critical values (Two tailed Test)\n",
    "\n",
    "t_critical_left = pop_mean + (-t_critical * std)\n",
    "t_critical_right = pop_mean + (t_critical * std)\n",
    "\n",
    "# Shading the left rejection region\n",
    "\n",
    "x1 = np.linspace(x_min, t_critical_left, 100)\n",
    "y1 = norm.pdf(x1, mean, std)\n",
    "plt.fill_between(x1, y1, color='blue')\n",
    "\n",
    "\n",
    "# Shading the right rejection region\n",
    "\n",
    "x2 = np.linspace(t_critical_right, x_max, 100)\n",
    "y2 = norm.pdf(x2, mean, std)\n",
    "plt.fill_between(x2, y2, color='red')\n",
    "\n",
    "# Ploting the sample mean and concluding the results \n",
    "\n",
    "plt.scatter(sample_mean, 0)\n",
    "plt.annotate(\"x_bar\", (sample_mean, 0.0007))"
   ]
  },
  {
   "cell_type": "code",
   "execution_count": 66,
   "metadata": {},
   "outputs": [
    {
     "name": "stdout",
     "output_type": "stream",
     "text": [
      "Fail to reject the Null Hypothesis\n"
     ]
    }
   ],
   "source": [
    "# Conclusion using t test\n",
    "\n",
    "if(np.abs(t)>t_critical):\n",
    "    print(\"Reject the Null Hypothesis\")\n",
    "    \n",
    "else:\n",
    "    print(\"Fail to reject the Null Hypothesis\")"
   ]
  },
  {
   "cell_type": "code",
   "execution_count": 67,
   "metadata": {},
   "outputs": [
    {
     "name": "stdout",
     "output_type": "stream",
     "text": [
      "p_value= 0.18291943486353945\n",
      "Fail to reject Null Hypothesis\n"
     ]
    }
   ],
   "source": [
    "# Conclusion using p test\n",
    "\n",
    "p_value= 2*(1.0-norm.cdf(np.abs(t)))\n",
    "print(\"p_value=\",p_value)\n",
    "\n",
    "if(p_value<alpha):\n",
    "    print(\"Reject Null Hypothesis\")\n",
    "    \n",
    "else:\n",
    "    print(\"Fail to reject Null Hypothesis\")"
   ]
  },
  {
   "cell_type": "markdown",
   "metadata": {},
   "source": [
    "## Question -2: "
   ]
  },
  {
   "cell_type": "markdown",
   "metadata": {},
   "source": [
    "You have developed a new Natural Language Processing Algorithms and done a user study. You claim that the average rating given by the users is greater than 4 on a scale of 1 to 5. How do you prove this to your client?"
   ]
  },
  {
   "cell_type": "markdown",
   "metadata": {},
   "source": [
    "Step-1: Alternate Hypothesis (Bold Claim):$$H_{1}: \\mu \\gt 4$$Null Hypothesis (Status Quo):$$H_{0}: \\mu  \\leq 4$$\n",
    "\n",
    "Step-2:\n",
    "\n",
    "Collect a sample size n=20$$[4,3,5,4,5,3,5,5,4,2,4,5,5,4,4,5,4,5,4,5]$$Compute the sample mean$$\\overline{x}=4.25$$Step-3: Compute Test statistics$$t=\\frac{\\overline{x}-\\mu}{s/\\sqrt{n}}$$\n",
    "\n",
    "Step-4: Decide $\\alpha$ or significance level= $0.95$\n",
    "\n",
    "Step-5:Rigth tailed t-statistics\n",
    "\n",
    "step-6:Compute p-value"
   ]
  },
  {
   "cell_type": "code",
   "execution_count": 68,
   "metadata": {},
   "outputs": [
    {
     "name": "stdout",
     "output_type": "stream",
     "text": [
      "20\n"
     ]
    },
    {
     "data": {
      "text/plain": [
       "4.25"
      ]
     },
     "execution_count": 68,
     "metadata": {},
     "output_type": "execute_result"
    }
   ],
   "source": [
    "l2=[4,3,5,4,5,3,5,5,4,2,4,5,5,4,4,5,4,5,4,5]\n",
    "print(len(l2))\n",
    "sum(l2)/len(l2)"
   ]
  },
  {
   "cell_type": "code",
   "execution_count": 69,
   "metadata": {},
   "outputs": [
    {
     "name": "stdout",
     "output_type": "stream",
     "text": [
      "1.8331129326536335\n"
     ]
    }
   ],
   "source": [
    "# Right tail test- Calculating the t-critical value\n",
    "\n",
    "from scipy.stats import t\n",
    "\n",
    "confidence_level_2=0.95\n",
    "alpha_2=1-confidence_level_2\n",
    "t_critical_2=t.ppf(1-alpha_2, df = 9)\n",
    "\n",
    "print(t_critical_2)"
   ]
  },
  {
   "cell_type": "code",
   "execution_count": 70,
   "metadata": {},
   "outputs": [
    {
     "data": {
      "text/plain": [
       "0.82915619758885"
      ]
     },
     "execution_count": 70,
     "metadata": {},
     "output_type": "execute_result"
    }
   ],
   "source": [
    "# Standard deviation\n",
    "\n",
    "standard_deviation(l2)"
   ]
  },
  {
   "cell_type": "code",
   "execution_count": 71,
   "metadata": {},
   "outputs": [],
   "source": [
    "# Defining the sample and population parameters\n",
    "\n",
    "sample_size_2 = 20\n",
    "sample_mean_2 = 4.25\n",
    "pop_mean_2 = 4\n",
    "sample_std_2 = 0.82915619758885"
   ]
  },
  {
   "cell_type": "code",
   "execution_count": 72,
   "metadata": {},
   "outputs": [
    {
     "name": "stdout",
     "output_type": "stream",
     "text": [
      "1.3483997249264843\n"
     ]
    }
   ],
   "source": [
    "#Calculating the t-score\n",
    "\n",
    "t_2=t_score(sample_mean_2,pop_mean_2,sample_std_2,sample_size_2)\n",
    "print(t_2)"
   ]
  },
  {
   "cell_type": "code",
   "execution_count": 73,
   "metadata": {},
   "outputs": [
    {
     "data": {
      "text/plain": [
       "Text(4.25, 0.1, 'x_bar')"
      ]
     },
     "execution_count": 73,
     "metadata": {},
     "output_type": "execute_result"
    },
    {
     "data": {
      "image/png": "[encoded data removed]",
      "text/plain": [
       "<Figure size 432x288 with 1 Axes>"
      ]
     },
     "metadata": {
      "needs_background": "light"
     },
     "output_type": "display_data"
    }
   ],
   "source": [
    "#Plotting the sampling distributions with rejection regions\n",
    "\n",
    "x_min_2=3.5\n",
    "x_max_2=4.5\n",
    "\n",
    "#Defining the sampling distribution mean and sampling distribution std\n",
    "mean_2=pop_mean_2\n",
    "std_2=sample_std_2/(sample_size_2**0.5)\n",
    "\n",
    "#Plotting the graph and setting the x limits\n",
    "x_2=np.linspace(x_min_2,x_max_2,100)\n",
    "y_2=norm.pdf(x_2,mean_2,std_2)\n",
    "plt.xlim(x_min_2,x_max_2)\n",
    "plt.plot(x_2,y_2)\n",
    "\n",
    "#Computing the critical right value(Right tailed test)\n",
    "t_critical_right_2=pop_mean_2+(t_critical_2*std_2)\n",
    "\n",
    "#Shading the right rejection region\n",
    "x2=np.linspace(t_critical_right_2,x_max_2,100)\n",
    "y2=norm.pdf(x2,mean_2,std_2)\n",
    "plt.fill_between(x2,y2,color='yellow')\n",
    "\n",
    "#Plotting the sample mean and concuding the results\n",
    "plt.scatter(sample_mean_2,0)\n",
    "plt.annotate(\"x_bar\",(sample_mean_2,0.1))\n"
   ]
  },
  {
   "cell_type": "code",
   "execution_count": 74,
   "metadata": {},
   "outputs": [
    {
     "name": "stdout",
     "output_type": "stream",
     "text": [
      "Fail to reject the Null Hypothesis\n"
     ]
    }
   ],
   "source": [
    "#Concusion using t test\n",
    "\n",
    "if(t_2 > t_critical_2):\n",
    "    print(\"Reject the Null Hypotehsis\")\n",
    "    \n",
    "else:\n",
    "    print(\"Fail to reject the Null Hypothesis\")"
   ]
  },
  {
   "cell_type": "code",
   "execution_count": 75,
   "metadata": {},
   "outputs": [
    {
     "name": "stdout",
     "output_type": "stream",
     "text": [
      "p_value =  0.08876492620607679\n",
      "Fail to reject Null Hypothesis\n"
     ]
    }
   ],
   "source": [
    "# Conclusion using p test\n",
    "\n",
    "p_value_2 = 1.0 - norm.cdf(np.abs(t_2))\n",
    "\n",
    "print(\"p_value = \", p_value_2)\n",
    "\n",
    "if(p_value_2 < alpha_2):\n",
    "    print(\"Reject Null Hypothesis\")\n",
    "    \n",
    "else:\n",
    "    print(\"Fail to reject Null Hypothesis\")"
   ]
  },
  {
   "cell_type": "markdown",
   "metadata": {},
   "source": [
    "## Question -3:"
   ]
  },
  {
   "cell_type": "markdown",
   "metadata": {},
   "source": [
    "TATA has developed a better fuel management system for the SUV segment. They claim that with this system, on average the SUV's mileage is at least 15 km/litre?"
   ]
  },
  {
   "cell_type": "markdown",
   "metadata": {},
   "source": [
    "Step-1: Alternate Hypothesis (Bold Claim):$$H_{1}: \\mu \\gt; 15$$Null Hypothesis (Status Quo):$$H_{0}: \\mu  \\leq 15$$\n",
    "\n",
    "Step-2:\n",
    "\n",
    "Collect a sample size n=20$$[14.8,14.13,15.65,13.78,16.26,14.97,15.36,15.81,14.53,16.79,15.78,16.98,13.23,15.4,15.46,13.88,14.31,14.41,15.7,15.38]$$Compute the sample mean$$\\overline{x}=15.130499999999998$$Step-3: Compute Test statistics$$t=\\frac{\\overline{x}-\\mu}{s/\\sqrt{n}}$$\n",
    "\n",
    "Step-4: Decide $\\alpha$ or significance level= $0.95$\n",
    "\n",
    "Step-5:Rigth tailed t-statistics\n",
    "\n",
    "Step-6: Compute p-value"
   ]
  },
  {
   "cell_type": "code",
   "execution_count": 76,
   "metadata": {},
   "outputs": [
    {
     "data": {
      "text/plain": [
       "15.130499999999998"
      ]
     },
     "execution_count": 76,
     "metadata": {},
     "output_type": "execute_result"
    }
   ],
   "source": [
    "l3=[14.8,14.13,15.65,13.78,16.26,14.97,15.36,15.81,14.53,16.79,15.78,16.98,13.23,15.4,15.46,13.88,14.31,14.41,15.7,15.38]\n",
    "sum(l3)/len(l3)"
   ]
  },
  {
   "cell_type": "code",
   "execution_count": 77,
   "metadata": {},
   "outputs": [
    {
     "name": "stdout",
     "output_type": "stream",
     "text": [
      "1.729132811521367\n"
     ]
    }
   ],
   "source": [
    "# Right tail test\n",
    "\n",
    "confidence_level3=0.95\n",
    "alpha3=1-confidence_level3\n",
    "t_critical3=t.ppf(1-alpha3,df=19)\n",
    "print(t_critical3)"
   ]
  },
  {
   "cell_type": "code",
   "execution_count": 78,
   "metadata": {},
   "outputs": [
    {
     "data": {
      "text/plain": [
       "0.9724375301272571"
      ]
     },
     "execution_count": 78,
     "metadata": {},
     "output_type": "execute_result"
    }
   ],
   "source": [
    "#Standard Deviation\n",
    "\n",
    "standard_deviation(l3)"
   ]
  },
  {
   "cell_type": "code",
   "execution_count": 79,
   "metadata": {},
   "outputs": [],
   "source": [
    "# Defining the sample and population parameters\n",
    "\n",
    "sample_size_3=20\n",
    "sample_mean_3=15.130499999999998\n",
    "pop_mean_3=15\n",
    "sample_std_3=0.9724375301272571"
   ]
  },
  {
   "cell_type": "code",
   "execution_count": 80,
   "metadata": {},
   "outputs": [
    {
     "name": "stdout",
     "output_type": "stream",
     "text": [
      "0.6001555102990127\n"
     ]
    }
   ],
   "source": [
    "#Calculating the t-score\n",
    "\n",
    "t_3=t_score(sample_mean_3,pop_mean_3,sample_std_3,sample_size_3)\n",
    "print(t_3)"
   ]
  },
  {
   "cell_type": "code",
   "execution_count": 81,
   "metadata": {},
   "outputs": [
    {
     "data": {
      "text/plain": [
       "Text(15.130499999999998, 0.1, 'x_bar')"
      ]
     },
     "execution_count": 81,
     "metadata": {},
     "output_type": "execute_result"
    },
    {
     "data": {
      "image/png": "[encoded data removed]",
      "text/plain": [
       "<Figure size 432x288 with 1 Axes>"
      ]
     },
     "metadata": {
      "needs_background": "light"
     },
     "output_type": "display_data"
    }
   ],
   "source": [
    "#Plotting the graph-\n",
    "\n",
    "x_min_3=13\n",
    "x_max_3=17\n",
    "\n",
    "mean_3=pop_mean_3\n",
    "std_3=sample_std_3/(sample_size_3**0.5)\n",
    "\n",
    "x_3=np.linspace(x_min_3,x_max_3,100)\n",
    "y_3=norm.pdf(x_3,mean_3,std_3)\n",
    "\n",
    "plt.xlim(x_min_3,x_max_3)\n",
    "plt.plot(x_3,y_3)\n",
    "\n",
    "t_critical_right3=pop_mean_3+(t_critical3*std_3)\n",
    "\n",
    "x3=np.linspace(t_critical_right3,x_max_3,100)\n",
    "y3=norm.pdf(x3,mean_3,std_3)\n",
    "plt.fill_between(x3,y3,color='purple')\n",
    "\n",
    "plt.scatter(sample_mean_3,0)\n",
    "plt.annotate(\"x_bar\",(sample_mean_3,0.1))"
   ]
  },
  {
   "cell_type": "code",
   "execution_count": 82,
   "metadata": {},
   "outputs": [
    {
     "name": "stdout",
     "output_type": "stream",
     "text": [
      "Fail to reject the Null Hypothesis\n"
     ]
    }
   ],
   "source": [
    "#Concusion using t test\n",
    "\n",
    "if (t_3> t_critical3):\n",
    "    print(\"Reject the Null Hypothesis\")\n",
    "    \n",
    "else:\n",
    "    print(\"Fail to reject the Null Hypothesis\")"
   ]
  },
  {
   "cell_type": "code",
   "execution_count": 83,
   "metadata": {},
   "outputs": [
    {
     "name": "stdout",
     "output_type": "stream",
     "text": [
      "p_value =  0.27420130031012957\n",
      "Fail to reject Null Hypothesis\n"
     ]
    }
   ],
   "source": [
    "#Concusion using p test\n",
    "\n",
    "p_value_3 = 1.0 - norm.cdf(np.abs(t_3))\n",
    "\n",
    "print(\"p_value = \", p_value_3)\n",
    "\n",
    "if(p_value_3 < alpha3):\n",
    "    print(\"Reject Null Hypothesis\")\n",
    "    \n",
    "else:\n",
    "    print(\"Fail to reject Null Hypothesis\")"
   ]
  },
  {
   "cell_type": "markdown",
   "metadata": {},
   "source": [
    "## Question -4: "
   ]
  },
  {
   "cell_type": "markdown",
   "metadata": {},
   "source": [
    "You have developed a new Machine Learning Application and claim that on average it takes less than 100 ms to predict for any future datapoint. How do you convince your client about this claim?"
   ]
  },
  {
   "cell_type": "markdown",
   "metadata": {},
   "source": [
    "Step-1: Alternate Hypothesis (Bold Claim) :$$H_{1}: \\mu \\lt 100$$\n",
    "\n",
    "Null Hypothesis (Status Quo):$$H_{0}: \\mu  \\geq 100$$\n",
    "\n",
    "Step-2:\n",
    "\n",
    "Collect a sample size n=100 Compute the sample mean$$\\overline{x}=99.25$$Step-3: Compute Test statistics$$t=\\frac{\\overline{x}-\\mu}{s/\\sqrt{n}}$$\n",
    "\n",
    "Step-4: Decide $\\alpha$ or significance level= $0.99$\n",
    "\n",
    "Step-5:Rigth tailed t-statistics\n",
    "\n",
    "step-6: Compute p-value"
   ]
  },
  {
   "cell_type": "code",
   "execution_count": 84,
   "metadata": {},
   "outputs": [
    {
     "data": {
      "text/plain": [
       "[97,\n",
       " 98,\n",
       " 95,\n",
       " 98,\n",
       " 102,\n",
       " 101,\n",
       " 104,\n",
       " 101,\n",
       " 102,\n",
       " 96,\n",
       " 100,\n",
       " 101,\n",
       " 103,\n",
       " 104,\n",
       " 96,\n",
       " 95,\n",
       " 101,\n",
       " 103,\n",
       " 97,\n",
       " 104]"
      ]
     },
     "execution_count": 84,
     "metadata": {},
     "output_type": "execute_result"
    }
   ],
   "source": [
    "from numpy import random\n",
    "x=random.randint(95,105, size=(100))\n",
    "l_4=list(x)\n",
    "l_4[:20]"
   ]
  },
  {
   "cell_type": "code",
   "execution_count": 85,
   "metadata": {},
   "outputs": [
    {
     "data": {
      "text/plain": [
       "99.42"
      ]
     },
     "execution_count": 85,
     "metadata": {},
     "output_type": "execute_result"
    }
   ],
   "source": [
    "sum(l_4)/len(l_4)"
   ]
  },
  {
   "cell_type": "code",
   "execution_count": 86,
   "metadata": {},
   "outputs": [
    {
     "name": "stdout",
     "output_type": "stream",
     "text": [
      "2.3646058614359737\n"
     ]
    }
   ],
   "source": [
    "# Left tail test\n",
    "\n",
    "confidence_level4=0.99\n",
    "alpha4=1-confidence_level4\n",
    "t_critical4=t.ppf(1-alpha4,df=99)\n",
    "print(t_critical4)"
   ]
  },
  {
   "cell_type": "code",
   "execution_count": 87,
   "metadata": {},
   "outputs": [
    {
     "data": {
      "text/plain": [
       "3.033743562003881"
      ]
     },
     "execution_count": 87,
     "metadata": {},
     "output_type": "execute_result"
    }
   ],
   "source": [
    "# Standard Deviation\n",
    "\n",
    "standard_deviation(l_4)"
   ]
  },
  {
   "cell_type": "code",
   "execution_count": 88,
   "metadata": {},
   "outputs": [],
   "source": [
    "# Defining the sample and population parameters\n",
    "\n",
    "sample_size_4=100\n",
    "sample_mean_4=99.25\n",
    "pop_mean_4=100\n",
    "sample_std_4=2.7472713735632306"
   ]
  },
  {
   "cell_type": "code",
   "execution_count": 89,
   "metadata": {},
   "outputs": [
    {
     "name": "stdout",
     "output_type": "stream",
     "text": [
      "-2.729981490788239\n"
     ]
    }
   ],
   "source": [
    "#Calculating the t-score\n",
    "\n",
    "t_4=t_score(sample_mean_4,pop_mean_4,sample_std_4,sample_size_4)\n",
    "print(t_4)"
   ]
  },
  {
   "cell_type": "code",
   "execution_count": 90,
   "metadata": {},
   "outputs": [
    {
     "data": {
      "text/plain": [
       "Text(99.25, 0.02, 'x_bar')"
      ]
     },
     "execution_count": 90,
     "metadata": {},
     "output_type": "execute_result"
    },
    {
     "data": {
      "image/png": "[encoded data removed]",
      "text/plain": [
       "<Figure size 432x288 with 1 Axes>"
      ]
     },
     "metadata": {
      "needs_background": "light"
     },
     "output_type": "display_data"
    }
   ],
   "source": [
    "#Plotting the graph\n",
    "\n",
    "x_min_4=95\n",
    "x_max_4=105\n",
    "\n",
    "mean_4=pop_mean_4\n",
    "std_4=sample_std_4/(sample_size_4**0.5)\n",
    "\n",
    "x4=np.linspace(x_min_4,x_max_4,100)\n",
    "y4=norm.pdf(x4,mean_4,std_4)\n",
    "\n",
    "plt.xlim(x_min_4,x_max_4)\n",
    "plt.plot(x4,y4)\n",
    "\n",
    "t_critical_left_4=pop_mean_4+(-t_critical4*std)\n",
    "\n",
    "x4=np.linspace(x_min_4,t_critical_left_4,100)\n",
    "y4=norm.pdf(x4,mean_4,std_4)\n",
    "plt.fill_between(x4,y4,color='black')\n",
    "\n",
    "plt.scatter(sample_mean_4,0)\n",
    "plt.annotate(\"x_bar\",(sample_mean_4,0.02))"
   ]
  },
  {
   "cell_type": "code",
   "execution_count": 91,
   "metadata": {},
   "outputs": [
    {
     "name": "stdout",
     "output_type": "stream",
     "text": [
      "Reject Null Hypothesis\n"
     ]
    }
   ],
   "source": [
    "#Concusion using t test\n",
    "\n",
    "if(t_4<t_critical4):\n",
    "    print(\"Reject Null Hypothesis\")\n",
    "    \n",
    "else:\n",
    "    print(\"Fail to reject the Null Hypothesis\")"
   ]
  },
  {
   "cell_type": "code",
   "execution_count": 92,
   "metadata": {},
   "outputs": [
    {
     "name": "stdout",
     "output_type": "stream",
     "text": [
      "p_value=  0.00316689407757631\n",
      "Reject Null Hypothesis\n"
     ]
    }
   ],
   "source": [
    "#Concusion using p test\n",
    "\n",
    "p_value_4=1.0-norm.cdf(np.abs(t_4))\n",
    "print(\"p_value= \",p_value_4)\n",
    "if(p_value_4<alpha_4):\n",
    "    print(\"Reject Null Hypothesis\")\n",
    "    \n",
    "else:\n",
    "    print(\"Fail to reject Null Hypothesis\")"
   ]
  }
 ],
 "metadata": {
  "kernelspec": {
   "display_name": "Python 3",
   "language": "python",
   "name": "python3"
  },
  "language_info": {
   "codemirror_mode": {
    "name": "ipython",
    "version": 3
   },
   "file_extension": ".py",
   "mimetype": "text/x-python",
   "name": "python",
   "nbconvert_exporter": "python",
   "pygments_lexer": "ipython3",
   "version": "3.7.6"
  }
 },
 "nbformat": 4,
 "nbformat_minor": 4
}
